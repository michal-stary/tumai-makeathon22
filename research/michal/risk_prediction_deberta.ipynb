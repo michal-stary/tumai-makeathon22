{
 "cells": [
  {
   "cell_type": "code",
   "execution_count": 1,
   "id": "3d348b84",
   "metadata": {},
   "outputs": [
    {
     "name": "stdout",
     "output_type": "stream",
     "text": [
      "Looking in indexes: https://pypi.org/simple, https://pypi.ngc.nvidia.com\n",
      "Requirement already satisfied: transformers in /auto/brno2/home/xstary1/brno6/.local-adv.SIF/lib/python3.8/site-packages (4.22.2)\n",
      "Requirement already satisfied: requests in /auto/brno2/home/xstary1/brno6/.local-adv.SIF/lib/python3.8/site-packages (from transformers) (2.25.1)\n",
      "Requirement already satisfied: pyyaml>=5.1 in /opt/conda/lib/python3.8/site-packages (from transformers) (6.0)\n",
      "Requirement already satisfied: regex!=2019.12.17 in /opt/conda/lib/python3.8/site-packages (from transformers) (2022.1.18)\n",
      "Requirement already satisfied: tqdm>=4.27 in /auto/brno2/home/xstary1/brno6/.local-adv.SIF/lib/python3.8/site-packages (from transformers) (4.56.2)\n",
      "Requirement already satisfied: huggingface-hub<1.0,>=0.9.0 in /auto/brno2/home/xstary1/brno6/.local-adv.SIF/lib/python3.8/site-packages (from transformers) (0.10.0)\n",
      "Requirement already satisfied: numpy>=1.17 in /opt/conda/lib/python3.8/site-packages (from transformers) (1.22.0)\n",
      "Requirement already satisfied: filelock in /opt/conda/lib/python3.8/site-packages (from transformers) (3.4.2)\n",
      "Requirement already satisfied: packaging>=20.0 in /opt/conda/lib/python3.8/site-packages (from transformers) (21.3)\n",
      "Requirement already satisfied: tokenizers!=0.11.3,<0.13,>=0.11.1 in /auto/brno2/home/xstary1/brno6/.local-adv.SIF/lib/python3.8/site-packages (from transformers) (0.12.1)\n",
      "Requirement already satisfied: typing-extensions>=3.7.4.3 in /opt/conda/lib/python3.8/site-packages (from huggingface-hub<1.0,>=0.9.0->transformers) (4.0.1)\n",
      "Requirement already satisfied: pyparsing!=3.0.5,>=2.0.2 in /opt/conda/lib/python3.8/site-packages (from packaging>=20.0->transformers) (3.0.6)\n",
      "Requirement already satisfied: certifi>=2017.4.17 in /opt/conda/lib/python3.8/site-packages (from requests->transformers) (2021.10.8)\n",
      "Requirement already satisfied: chardet<5,>=3.0.2 in /opt/conda/lib/python3.8/site-packages (from requests->transformers) (4.0.0)\n",
      "Requirement already satisfied: idna<3,>=2.5 in /auto/brno2/home/xstary1/brno6/.local-adv.SIF/lib/python3.8/site-packages (from requests->transformers) (2.10)\n",
      "Requirement already satisfied: urllib3<1.27,>=1.21.1 in /opt/conda/lib/python3.8/site-packages (from requests->transformers) (1.26.7)\n",
      "Note: you may need to restart the kernel to use updated packages.\n",
      "Looking in indexes: https://pypi.org/simple, https://pypi.ngc.nvidia.com\n",
      "Requirement already satisfied: openpyxl in /auto/brno2/home/xstary1/brno6/.local-adv.SIF/lib/python3.8/site-packages (3.0.10)\n",
      "Requirement already satisfied: et-xmlfile in /auto/brno2/home/xstary1/brno6/.local-adv.SIF/lib/python3.8/site-packages (from openpyxl) (1.1.0)\n",
      "Note: you may need to restart the kernel to use updated packages.\n"
     ]
    },
    {
     "data": {
      "text/plain": [
       "<torch._C.Generator at 0x1550cd626e90>"
      ]
     },
     "execution_count": 1,
     "metadata": {},
     "output_type": "execute_result"
    }
   ],
   "source": [
    "#%pip install torch --user\n",
    "import json\n",
    "import os\n",
    "import numpy as np \n",
    "import pandas as pd\n",
    "import torch\n",
    "import torch.functional as F\n",
    "import torch.nn as nn\n",
    "\n",
    "%pip install transformers --user\n",
    "%pip install openpyxl --user\n",
    "\n",
    "from transformers import BertTokenizerFast,  BatchEncoding, BertModel, \\\n",
    "                            BertForTokenClassification\n",
    "from tokenizers import Encoding\n",
    "\n",
    "# %pip install ipywidgets --upgrade\n",
    "# %pip install jupyter --upgrade\n",
    "# %pip install seaborn --user\n",
    "# %pip install sentencepiece\n",
    "\n",
    "import seaborn as sns \n",
    "import matplotlib.pyplot as plt\n",
    "\n",
    "import tqdm\n",
    "\n",
    "\n",
    "torch.manual_seed(42)"
   ]
  },
  {
   "cell_type": "code",
   "execution_count": 2,
   "id": "3d2ee8f1",
   "metadata": {},
   "outputs": [],
   "source": [
    "import pandas as pd\n",
    "from utils import preproc\n",
    "df = pd.read_excel(\"data/appliedAI_Use Case Library - Risk Class_TUM.ai.xlsx\", index_col=0, header=2)\n",
    "\n",
    "df = preproc(df)\n"
   ]
  },
  {
   "cell_type": "code",
   "execution_count": 3,
   "id": "b90e2222",
   "metadata": {},
   "outputs": [],
   "source": [
    "from sklearn.model_selection import train_test_split\n",
    "X_train, X_test, y_train, y_test = train_test_split(df, df['risk'],\n",
    "                                                    stratify=df['risk'], \n",
    "                                                    test_size=0.25,\n",
    "                                                   random_state=42)"
   ]
  },
  {
   "cell_type": "code",
   "execution_count": 4,
   "id": "2e71acdf",
   "metadata": {},
   "outputs": [
    {
     "data": {
      "text/plain": [
       "Use Case ID\n",
       "86      low-risk\n",
       "57      low-risk\n",
       "8       low-risk\n",
       "30      low-risk\n",
       "114     low-risk\n",
       "36     high-risk\n",
       "56     high-risk\n",
       "87      low-risk\n",
       "62      low-risk\n",
       "92      low-risk\n",
       "91      low-risk\n",
       "80      low-risk\n",
       "108     low-risk\n",
       "89      low-risk\n",
       "7       low-risk\n",
       "5      high-risk\n",
       "68      low-risk\n",
       "85      low-risk\n",
       "32      low-risk\n",
       "42     high-risk\n",
       "21      low-risk\n",
       "76      low-risk\n",
       "49      low-risk\n",
       "34      low-risk\n",
       "117     low-risk\n",
       "Name: risk, dtype: object"
      ]
     },
     "execution_count": 4,
     "metadata": {},
     "output_type": "execute_result"
    }
   ],
   "source": [
    "y_test"
   ]
  },
  {
   "cell_type": "code",
   "execution_count": 5,
   "id": "82292030",
   "metadata": {},
   "outputs": [],
   "source": [
    "from torch.utils.data import Dataset\n",
    "\n",
    "\n",
    "# create a dataset - currently all files loaded beforehand (woeks for smaller datasets)\n",
    "class RDataset(Dataset):\n",
    "    # A pytorch dataset class for holding data for a text labeling task.\n",
    "    # gets a parent directory of several datasets' directories\n",
    "    def __init__(self, model_name, X, y):\n",
    "        '''\n",
    "        Takes as input the name of a file containing sentences with a classification label (comma separated) in each line.\n",
    "        Stores the text data in a member variable X and labels in y\n",
    "        '''\n",
    "        \n",
    "        # Load a pre-trained tokenizer\n",
    "        self.tokenizer = AutoTokenizer.from_pretrained(model_name) \n",
    "\n",
    "        self.encodings = self.tokenizer(X[\"desc\"].to_list(), return_tensors=\"pt\", padding=True)\n",
    "        self.y = y.replace({\"low-risk\": 0.0, \"high-risk\": 1.0}).to_list()\n",
    "        \n",
    "        \n",
    "\n",
    "    def __getitem__(self, idx):\n",
    "        item = {key: torch.tensor(val[idx]) for key, val in self.encodings.items()}\n",
    "        item['labels'] = torch.tensor(self.y[idx])\n",
    "        return item\n",
    "\n",
    "    def __len__(self):\n",
    "        return len(self.y)\n"
   ]
  },
  {
   "cell_type": "code",
   "execution_count": 6,
   "id": "74bba704",
   "metadata": {},
   "outputs": [
    {
     "name": "stderr",
     "output_type": "stream",
     "text": [
      "/storage/brno2/home/xstary1/brno6/.local-adv.SIF/lib/python3.8/site-packages/transformers/convert_slow_tokenizer.py:446: UserWarning: The sentencepiece tokenizer that you are converting to a fast tokenizer uses the byte fallback option which is not implemented in the fast tokenizers. In practice this means that the fast version of the tokenizer can produce unknown tokens whereas the sentencepiece version would have converted these unknown tokens into a sequence of byte tokens matching the original piece of text.\n",
      "  warnings.warn(\n",
      "Some weights of DebertaV2ForSequenceClassification were not initialized from the model checkpoint at MoritzLaurer/DeBERTa-v3-xsmall-mnli-fever-anli-ling-binary and are newly initialized because the shapes did not match:\n",
      "- classifier.weight: found shape torch.Size([2, 384]) in the checkpoint and torch.Size([1, 384]) in the model instantiated\n",
      "- classifier.bias: found shape torch.Size([2]) in the checkpoint and torch.Size([1]) in the model instantiated\n",
      "You should probably TRAIN this model on a down-stream task to be able to use it for predictions and inference.\n"
     ]
    }
   ],
   "source": [
    "from transformers import AutoTokenizer, AutoModelForSequenceClassification\n",
    "import torch\n",
    "\n",
    "model_name = \"MoritzLaurer/DeBERTa-v3-xsmall-mnli-fever-anli-ling-binary\"\n",
    "dataset_train = RDataset(model_name,  X_train, y_train)\n",
    "dataset_test = RDataset(model_name, X_test, y_test)\n",
    "model = AutoModelForSequenceClassification.from_pretrained(model_name, num_labels=1, ignore_mismatched_sizes=True)\n",
    "# model.config.num_labels = 1\n"
   ]
  },
  {
   "cell_type": "code",
   "execution_count": 7,
   "id": "c28a4944",
   "metadata": {},
   "outputs": [],
   "source": [
    "from torch.utils.data import DataLoader\n",
    "\n"
   ]
  },
  {
   "cell_type": "code",
   "execution_count": 8,
   "id": "9a77a759",
   "metadata": {},
   "outputs": [
    {
     "name": "stdout",
     "output_type": "stream",
     "text": [
      "\n",
      "PyTorch:\n",
      "1 GPU(s) available.\n",
      "GPU-Name: NVIDIA A40\n"
     ]
    }
   ],
   "source": [
    "# Check PyTorch GPU capabilities:\n",
    "\n",
    "print(\"\\nPyTorch:\")\n",
    "if torch.cuda.is_available():\n",
    "    device = torch.device(\"cuda\")\n",
    "    print('%d GPU(s) available.' % torch.cuda.device_count())\n",
    "    print('GPU-Name:', torch.cuda.get_device_name(0))\n",
    "else:\n",
    "    print('No GPU available, using the CPU instead.')\n",
    "    device = torch.device(\"cpu\")\n",
    "\n",
    "# device = torch.device(\"cpu\")\n",
    "\n",
    "model = model.to(device)"
   ]
  },
  {
   "cell_type": "code",
   "execution_count": 9,
   "id": "b83fadd2",
   "metadata": {},
   "outputs": [],
   "source": [
    "#\n",
    "## other training parameters\n",
    "clip = 0.25            #gradient clipping\n",
    "lr = 0.00001#0.00003           #initial learning rate\n",
    "wdecay=1.2e-6          #weight decay applied to all weights\n",
    "epochs = 2             #maximum number of epochs\n",
    "#save = 'models/model.pt'      #path to save the final model\n",
    "\n",
    "train_max_number_batches = -1 # only for the sake of debugging. Set to -1 to be ignored\n",
    "inference_max_number_batches = -1 # only for the sake of debugging. Set to -1 to be ignored\n",
    "\n",
    "## log parameters\n",
    "log_interval = 100     #log interval during training\n",
    "log_interval_val = 100 #log interval during validation"
   ]
  },
  {
   "cell_type": "code",
   "execution_count": 10,
   "id": "23775e88",
   "metadata": {},
   "outputs": [],
   "source": [
    "\n",
    "class Learner():\n",
    "    def __init__(self,train_loader, val_loader, model, optimizer, device, loss_fn=None):\n",
    "        self.train_loader= train_loader\n",
    "        self.val_loader = val_loader\n",
    "        self.model = model \n",
    "        self.optimizer = optimizer\n",
    "        self.loss_fn = loss_fn\n",
    "        self.device = device\n",
    "        \n",
    "    def evaluate(self, loader):\n",
    "        eval_loss = 0\n",
    "        self.model.eval()\n",
    "        for b, inp in tqdm.tqdm(enumerate(loader), total=len(loader), position=0, leave=True):\n",
    "            with torch.no_grad():\n",
    "                inp = {k:v.clone().detach().to(device) for (k,v) in inp.items()}\n",
    "                \n",
    "                output = self.model(**inp)\n",
    "                #loss = self.loss_fn(log_pred, y)\n",
    "                logits = output.logits\n",
    "                \n",
    "                loss = self.loss_fn(logits, inp[\"labels\"], pos_weight=torch.tensor(9))\n",
    "                \n",
    "                eval_loss += loss.item()\n",
    "            \n",
    "        eval_loss /= len(loader)\n",
    "        \n",
    "        return eval_loss\n",
    "    \n",
    "    def train(self,n_epochs, train_losses, val_losses, early_stopping=True, es_limit=3):\n",
    "\n",
    "        if early_stopping:\n",
    "            min_val_loss = np.inf\n",
    "            no_improve = 0\n",
    "        \n",
    "        \n",
    "        for e in range(n_epochs):\n",
    "            # train\n",
    "            train_loss = 0\n",
    "            self.model.train()\n",
    "            for b, inp in tqdm.tqdm(enumerate(self.train_loader), total=len(self.train_loader), position=0, leave=True):\n",
    "                inp = {k:v.clone().detach().to(device) for (k,v) in inp.items()}\n",
    "\n",
    "                self.optimizer.zero_grad()\n",
    "                output = self.model(**inp)\n",
    "\n",
    "                logits = output.logits\n",
    "\n",
    "                print(inp[\"labels\"])\n",
    "                loss = self.loss_fn(logits, inp[\"labels\"], pos_weight=torch.tensor(10))\n",
    "\n",
    "                loss.backward()\n",
    "\n",
    "                self.optimizer.step()\n",
    "\n",
    "            # evaluate (train, validation)\n",
    "            train_loss = self.evaluate(self.train_loader)\n",
    "            val_loss = self.evaluate(self.val_loader)\n",
    "\n",
    "            # early stopping\n",
    "            if early_stopping:\n",
    "                if val_loss < min_val_loss:\n",
    "                    min_val_loss = val_loss\n",
    "                    torch.save(self.model, \"models/deberta_risk\")\n",
    "                    no_improve = 0\n",
    "                else:\n",
    "                    no_improve += 1\n",
    "            if no_improve > es_limit:\n",
    "                print(\"Early stopped\")\n",
    "                self.model = torch.load(\"models/deberta_risk\")\n",
    "                break\n",
    "            \n",
    "            print(f\"After {e+1} epochs: \")\n",
    "            print(f\"Train loss: {train_loss:.3}\")\n",
    "            print(f\"Val loss: {val_loss:.3}\\n\")\n",
    "                \n",
    "            train_losses.append(train_loss)\n",
    "            val_losses.append(val_loss)\n",
    "        return train_losses, val_losses\n",
    "    \n",
    "    \n",
    "\n",
    "train_loader = DataLoader(dataset_train, batch_size=8, shuffle=True, num_workers=0)\n",
    "val_loader = DataLoader(dataset_test, batch_size=16, shuffle=True, num_workers=0)\n",
    "\n",
    "optim = torch.optim.Adam(model.parameters(), lr=lr, weight_decay=wdecay)\n",
    "loss_fn = torch.nn.functional.binary_cross_entropy_with_logits\n",
    "\n",
    "train_losses, val_losses = [], []"
   ]
  },
  {
   "cell_type": "code",
   "execution_count": 11,
   "id": "17bd1032",
   "metadata": {},
   "outputs": [
    {
     "name": "stderr",
     "output_type": "stream",
     "text": [
      "  0%|          | 0/10 [00:00<?, ?it/s]/var/tmp/pbs.12922055.meta-pbs.metacentrum.cz/ipykernel_505698/1032613092.py:23: UserWarning: To copy construct from a tensor, it is recommended to use sourceTensor.clone().detach() or sourceTensor.clone().detach().requires_grad_(True), rather than torch.tensor(sourceTensor).\n",
      "  item = {key: torch.tensor(val[idx]) for key, val in self.encodings.items()}\n",
      "/storage/brno2/home/xstary1/brno6/.local-adv.SIF/lib/python3.8/site-packages/transformers/models/deberta_v2/modeling_deberta_v2.py:745: UserWarning: To copy construct from a tensor, it is recommended to use sourceTensor.clone().detach() or sourceTensor.clone().detach().requires_grad_(True), rather than torch.tensor(sourceTensor).\n",
      "  attention_scores = torch.bmm(query_layer, key_layer.transpose(-1, -2)) / torch.tensor(\n",
      "/storage/brno2/home/xstary1/brno6/.local-adv.SIF/lib/python3.8/site-packages/transformers/models/deberta_v2/modeling_deberta_v2.py:829: UserWarning: To copy construct from a tensor, it is recommended to use sourceTensor.clone().detach() or sourceTensor.clone().detach().requires_grad_(True), rather than torch.tensor(sourceTensor).\n",
      "  score += c2p_att / torch.tensor(scale, dtype=c2p_att.dtype)\n",
      "/storage/brno2/home/xstary1/brno6/.local-adv.SIF/lib/python3.8/site-packages/transformers/models/deberta_v2/modeling_deberta_v2.py:852: UserWarning: To copy construct from a tensor, it is recommended to use sourceTensor.clone().detach() or sourceTensor.clone().detach().requires_grad_(True), rather than torch.tensor(sourceTensor).\n",
      "  score += p2c_att / torch.tensor(scale, dtype=p2c_att.dtype)\n",
      " 30%|███       | 3/10 [00:00<00:01,  3.75it/s]"
     ]
    },
    {
     "name": "stdout",
     "output_type": "stream",
     "text": [
      "tensor([0., 0., 0., 0., 0., 0., 0., 1.], device='cuda:0')\n",
      "tensor([1., 1., 0., 0., 0., 0., 0., 0.], device='cuda:0')\n",
      "tensor([0., 0., 0., 0., 0., 0., 0., 1.], device='cuda:0')\n"
     ]
    },
    {
     "name": "stderr",
     "output_type": "stream",
     "text": [
      " 50%|█████     | 5/10 [00:01<00:00,  6.13it/s]"
     ]
    },
    {
     "name": "stdout",
     "output_type": "stream",
     "text": [
      "tensor([1., 0., 1., 0., 0., 0., 0., 0.], device='cuda:0')\n",
      "tensor([0., 0., 0., 0., 0., 0., 0., 0.], device='cuda:0')\n",
      "tensor([0., 0., 0., 0., 0., 0., 0., 0.], device='cuda:0')\n",
      "tensor([0., 0., 0., 0., 0., 0., 0., 1.], device='cuda:0')\n"
     ]
    },
    {
     "name": "stderr",
     "output_type": "stream",
     "text": [
      "100%|██████████| 10/10 [00:01<00:00,  6.97it/s]\n",
      "  0%|          | 0/10 [00:00<?, ?it/s]"
     ]
    },
    {
     "name": "stdout",
     "output_type": "stream",
     "text": [
      "tensor([0., 1., 0., 0., 1., 0., 0., 0.], device='cuda:0')\n",
      "tensor([0., 0., 0., 0., 0., 1., 0., 0.], device='cuda:0')\n",
      "tensor([0.], device='cuda:0')\n"
     ]
    },
    {
     "name": "stderr",
     "output_type": "stream",
     "text": [
      "100%|██████████| 10/10 [00:00<00:00, 56.48it/s]\n",
      "100%|██████████| 2/2 [00:00<00:00, 32.08it/s]\n",
      " 20%|██        | 2/10 [00:00<00:00, 14.00it/s]"
     ]
    },
    {
     "name": "stdout",
     "output_type": "stream",
     "text": [
      "After 1 epochs: \n",
      "Train loss: 1.96\n",
      "Val loss: 1.65\n",
      "\n",
      "tensor([0., 0., 1., 0., 1., 0., 0., 0.], device='cuda:0')\n",
      "tensor([0., 0., 0., 0., 0., 0., 0., 1.], device='cuda:0')\n",
      "tensor([0., 0., 0., 1., 0., 0., 0., 0.], device='cuda:0')\n"
     ]
    },
    {
     "name": "stderr",
     "output_type": "stream",
     "text": [
      " 60%|██████    | 6/10 [00:00<00:00, 14.80it/s]"
     ]
    },
    {
     "name": "stdout",
     "output_type": "stream",
     "text": [
      "tensor([0., 1., 0., 0., 0., 0., 0., 0.], device='cuda:0')\n",
      "tensor([0., 0., 0., 1., 0., 0., 0., 0.], device='cuda:0')\n",
      "tensor([1., 0., 0., 0., 0., 1., 0., 0.], device='cuda:0')\n",
      "tensor([0., 0., 1., 1., 0., 0., 0., 0.], device='cuda:0')\n"
     ]
    },
    {
     "name": "stderr",
     "output_type": "stream",
     "text": [
      "100%|██████████| 10/10 [00:00<00:00, 15.11it/s]\n",
      "  0%|          | 0/10 [00:00<?, ?it/s]"
     ]
    },
    {
     "name": "stdout",
     "output_type": "stream",
     "text": [
      "tensor([0., 0., 0., 0., 0., 0., 0., 0.], device='cuda:0')\n",
      "tensor([0., 0., 0., 0., 0., 0., 0., 0.], device='cuda:0')\n",
      "tensor([0.], device='cuda:0')\n"
     ]
    },
    {
     "name": "stderr",
     "output_type": "stream",
     "text": [
      "100%|██████████| 10/10 [00:00<00:00, 52.12it/s]\n",
      "100%|██████████| 2/2 [00:00<00:00, 32.23it/s]\n",
      " 20%|██        | 2/10 [00:00<00:00, 14.14it/s]"
     ]
    },
    {
     "name": "stdout",
     "output_type": "stream",
     "text": [
      "After 2 epochs: \n",
      "Train loss: 1.35\n",
      "Val loss: 1.35\n",
      "\n",
      "tensor([0., 0., 0., 0., 0., 0., 0., 0.], device='cuda:0')\n",
      "tensor([0., 0., 1., 0., 0., 0., 0., 0.], device='cuda:0')\n",
      "tensor([0., 0., 0., 0., 0., 0., 1., 0.], device='cuda:0')\n"
     ]
    },
    {
     "name": "stderr",
     "output_type": "stream",
     "text": [
      " 60%|██████    | 6/10 [00:00<00:00, 14.91it/s]"
     ]
    },
    {
     "name": "stdout",
     "output_type": "stream",
     "text": [
      "tensor([0., 0., 0., 0., 1., 0., 0., 0.], device='cuda:0')\n",
      "tensor([0., 0., 0., 0., 0., 0., 0., 0.], device='cuda:0')\n",
      "tensor([0., 0., 1., 0., 0., 1., 0., 0.], device='cuda:0')\n"
     ]
    },
    {
     "name": "stderr",
     "output_type": "stream",
     "text": [
      "100%|██████████| 10/10 [00:00<00:00, 15.14it/s]\n",
      "  0%|          | 0/10 [00:00<?, ?it/s]"
     ]
    },
    {
     "name": "stdout",
     "output_type": "stream",
     "text": [
      "tensor([0., 0., 0., 0., 0., 1., 0., 1.], device='cuda:0')\n",
      "tensor([0., 0., 0., 0., 0., 0., 1., 0.], device='cuda:0')\n",
      "tensor([0., 0., 0., 1., 0., 0., 0., 0.], device='cuda:0')\n",
      "tensor([1.], device='cuda:0')\n"
     ]
    },
    {
     "name": "stderr",
     "output_type": "stream",
     "text": [
      "100%|██████████| 10/10 [00:00<00:00, 53.77it/s]\n",
      "100%|██████████| 2/2 [00:00<00:00, 32.18it/s]\n",
      " 20%|██        | 2/10 [00:00<00:00, 15.40it/s]"
     ]
    },
    {
     "name": "stdout",
     "output_type": "stream",
     "text": [
      "After 3 epochs: \n",
      "Train loss: 1.32\n",
      "Val loss: 1.58\n",
      "\n",
      "tensor([0., 0., 1., 0., 0., 0., 0., 0.], device='cuda:0')\n",
      "tensor([0., 1., 0., 1., 0., 0., 0., 0.], device='cuda:0')\n",
      "tensor([0., 0., 0., 0., 0., 0., 0., 1.], device='cuda:0')\n"
     ]
    },
    {
     "name": "stderr",
     "output_type": "stream",
     "text": [
      " 60%|██████    | 6/10 [00:00<00:00, 15.33it/s]"
     ]
    },
    {
     "name": "stdout",
     "output_type": "stream",
     "text": [
      "tensor([0., 0., 0., 0., 0., 0., 0., 0.], device='cuda:0')\n",
      "tensor([0., 0., 0., 0., 0., 0., 0., 0.], device='cuda:0')\n",
      "tensor([1., 0., 0., 0., 0., 0., 0., 1.], device='cuda:0')\n",
      "tensor([0., 0., 0., 0., 0., 0., 1., 1.], device='cuda:0')\n"
     ]
    },
    {
     "name": "stderr",
     "output_type": "stream",
     "text": [
      "100%|██████████| 10/10 [00:00<00:00, 15.33it/s]\n",
      "  0%|          | 0/10 [00:00<?, ?it/s]"
     ]
    },
    {
     "name": "stdout",
     "output_type": "stream",
     "text": [
      "tensor([0., 0., 0., 1., 0., 0., 0., 0.], device='cuda:0')\n",
      "tensor([0., 0., 0., 0., 0., 0., 0., 0.], device='cuda:0')\n",
      "tensor([1.], device='cuda:0')\n"
     ]
    },
    {
     "name": "stderr",
     "output_type": "stream",
     "text": [
      "100%|██████████| 10/10 [00:00<00:00, 55.44it/s]\n",
      "100%|██████████| 2/2 [00:00<00:00, 32.01it/s]\n",
      " 20%|██        | 2/10 [00:00<00:00, 14.70it/s]"
     ]
    },
    {
     "name": "stdout",
     "output_type": "stream",
     "text": [
      "After 4 epochs: \n",
      "Train loss: 1.27\n",
      "Val loss: 1.5\n",
      "\n",
      "tensor([0., 0., 0., 0., 0., 0., 0., 1.], device='cuda:0')\n",
      "tensor([0., 0., 0., 0., 0., 0., 1., 1.], device='cuda:0')\n",
      "tensor([0., 0., 0., 0., 1., 0., 0., 1.], device='cuda:0')\n"
     ]
    },
    {
     "name": "stderr",
     "output_type": "stream",
     "text": [
      " 60%|██████    | 6/10 [00:00<00:00, 14.81it/s]"
     ]
    },
    {
     "name": "stdout",
     "output_type": "stream",
     "text": [
      "tensor([0., 0., 0., 0., 0., 0., 0., 0.], device='cuda:0')\n",
      "tensor([0., 1., 0., 0., 0., 0., 0., 1.], device='cuda:0')\n",
      "tensor([0., 0., 0., 1., 0., 0., 0., 0.], device='cuda:0')\n",
      "tensor([0., 1., 0., 0., 0., 0., 0., 0.], device='cuda:0')\n"
     ]
    },
    {
     "name": "stderr",
     "output_type": "stream",
     "text": [
      "100%|██████████| 10/10 [00:00<00:00, 15.37it/s]\n",
      "  0%|          | 0/10 [00:00<?, ?it/s]"
     ]
    },
    {
     "name": "stdout",
     "output_type": "stream",
     "text": [
      "tensor([0., 0., 0., 1., 0., 0., 0., 0.], device='cuda:0')\n",
      "tensor([0., 0., 0., 0., 0., 0., 0., 0.], device='cuda:0')\n",
      "tensor([0.], device='cuda:0')\n"
     ]
    },
    {
     "name": "stderr",
     "output_type": "stream",
     "text": [
      "100%|██████████| 10/10 [00:00<00:00, 55.48it/s]\n",
      "100%|██████████| 2/2 [00:00<00:00, 32.89it/s]\n",
      " 20%|██        | 2/10 [00:00<00:00, 15.46it/s]"
     ]
    },
    {
     "name": "stdout",
     "output_type": "stream",
     "text": [
      "After 5 epochs: \n",
      "Train loss: 1.24\n",
      "Val loss: 1.48\n",
      "\n",
      "tensor([0., 0., 0., 0., 0., 1., 0., 0.], device='cuda:0')\n",
      "tensor([0., 0., 0., 0., 0., 0., 1., 0.], device='cuda:0')\n",
      "tensor([0., 0., 1., 0., 0., 0., 0., 0.], device='cuda:0')\n"
     ]
    },
    {
     "name": "stderr",
     "output_type": "stream",
     "text": [
      " 60%|██████    | 6/10 [00:00<00:00, 15.63it/s]"
     ]
    },
    {
     "name": "stdout",
     "output_type": "stream",
     "text": [
      "tensor([1., 0., 1., 0., 0., 0., 0., 0.], device='cuda:0')\n",
      "tensor([0., 1., 0., 0., 0., 0., 0., 0.], device='cuda:0')\n",
      "tensor([0., 0., 0., 1., 0., 0., 0., 0.], device='cuda:0')\n",
      "tensor([0., 0., 1., 1., 0., 0., 0., 0.], device='cuda:0')\n"
     ]
    },
    {
     "name": "stderr",
     "output_type": "stream",
     "text": [
      "100%|██████████| 10/10 [00:00<00:00, 15.75it/s]\n",
      "  0%|          | 0/10 [00:00<?, ?it/s]"
     ]
    },
    {
     "name": "stdout",
     "output_type": "stream",
     "text": [
      "tensor([0., 0., 0., 0., 0., 0., 0., 0.], device='cuda:0')\n",
      "tensor([0., 1., 0., 0., 0., 0., 0., 0.], device='cuda:0')\n",
      "tensor([0.], device='cuda:0')\n"
     ]
    },
    {
     "name": "stderr",
     "output_type": "stream",
     "text": [
      "100%|██████████| 10/10 [00:00<00:00, 54.26it/s]\n",
      "100%|██████████| 2/2 [00:00<00:00, 32.30it/s]\n"
     ]
    },
    {
     "name": "stdout",
     "output_type": "stream",
     "text": [
      "Early stopped\n"
     ]
    }
   ],
   "source": [
    "learner = Learner(train_loader, val_loader, model, optim, device, loss_fn=loss_fn)\n",
    "train_losses, val_losses = learner.train(50, train_losses, val_losses)"
   ]
  },
  {
   "cell_type": "code",
   "execution_count": 12,
   "id": "97e31399",
   "metadata": {},
   "outputs": [
    {
     "name": "stderr",
     "output_type": "stream",
     "text": [
      "  0%|          | 0/10 [00:00<?, ?it/s]/var/tmp/pbs.12922055.meta-pbs.metacentrum.cz/ipykernel_505698/1032613092.py:23: UserWarning: To copy construct from a tensor, it is recommended to use sourceTensor.clone().detach() or sourceTensor.clone().detach().requires_grad_(True), rather than torch.tensor(sourceTensor).\n",
      "  item = {key: torch.tensor(val[idx]) for key, val in self.encodings.items()}\n",
      "100%|██████████| 10/10 [00:00<00:00, 49.83it/s]\n",
      "  0%|          | 0/2 [00:00<?, ?it/s]"
     ]
    },
    {
     "name": "stdout",
     "output_type": "stream",
     "text": [
      "tensor([0., 1., 0., 0., 0., 0., 0., 0.], device='cuda:0')\n",
      "tensor([ 0.1931,  0.2950, -0.0117,  0.1630,  0.6543,  0.1556, -0.1576,  0.0365],\n",
      "       device='cuda:0')\n",
      "tensor([0., 0., 0., 0., 0., 1., 0., 1.], device='cuda:0')\n",
      "tensor([ 0.3262, -0.0452, -0.1705, -0.2292,  0.0963,  0.7271,  0.2569,  0.5412],\n",
      "       device='cuda:0')\n",
      "tensor([1., 0., 0., 0., 1., 0., 0., 0.], device='cuda:0')\n",
      "tensor([ 0.5149, -0.0600, -0.4120,  0.3254,  0.7488, -0.4367, -0.1553, -0.0601],\n",
      "       device='cuda:0')\n",
      "tensor([0., 0., 0., 0., 0., 0., 0., 0.], device='cuda:0')\n",
      "tensor([ 0.2424, -0.0601, -0.4120, -0.0114, -0.4218,  0.2817, -0.0954,  0.1764],\n",
      "       device='cuda:0')\n",
      "tensor([0., 0., 0., 0., 0., 0., 0., 0.], device='cuda:0')\n",
      "tensor([-0.0805,  0.0685,  0.7223,  0.4202, -0.0804, -0.0165, -0.0031, -0.2157],\n",
      "       device='cuda:0')\n",
      "tensor([0., 0., 1., 0., 0., 0., 0., 0.], device='cuda:0')\n",
      "tensor([ 0.0846,  0.1497,  0.7223, -0.2732, -0.4120,  0.2289, -0.0682, -0.0804],\n",
      "       device='cuda:0')\n",
      "tensor([0., 0., 0., 0., 1., 0., 0., 1.], device='cuda:0')\n",
      "tensor([ 0.0150,  0.0429,  0.0452,  0.0180,  0.6543,  0.1729, -0.4429,  0.1199],\n",
      "       device='cuda:0')\n",
      "tensor([0., 0., 0., 0., 0., 0., 1., 0.], device='cuda:0')\n",
      "tensor([-0.0328,  0.2504, -0.1054, -0.2166, -0.1504, -0.0646,  0.4603, -0.2481],\n",
      "       device='cuda:0')\n",
      "tensor([0., 1., 0., 0., 0., 0., 0., 0.], device='cuda:0')\n",
      "tensor([-0.5067,  0.7674, -0.1464,  0.0365, -0.0221, -0.0327,  0.1708,  0.1044],\n",
      "       device='cuda:0')\n",
      "tensor([0.], device='cuda:0')\n",
      "tensor([-0.0604], device='cuda:0')\n"
     ]
    },
    {
     "name": "stderr",
     "output_type": "stream",
     "text": [
      "100%|██████████| 2/2 [00:00<00:00, 31.36it/s]"
     ]
    },
    {
     "name": "stdout",
     "output_type": "stream",
     "text": [
      "tensor([1., 1., 1., 0., 0., 1., 0., 0., 0., 0., 0., 0., 0., 0., 0., 0.],\n",
      "       device='cuda:0')\n",
      "tensor([ 0.6140,  0.2814,  0.0466,  0.1805,  0.3158,  0.5411,  0.2106, -0.0804,\n",
      "         0.0591,  0.1652,  0.0846,  0.6543, -0.1230,  0.4593, -0.3122,  0.2013],\n",
      "       device='cuda:0')\n",
      "tensor([0., 0., 0., 0., 0., 0., 0., 0., 0.], device='cuda:0')\n",
      "tensor([ 0.0562,  0.0094,  0.1523,  0.1680, -0.0922,  0.1607,  0.5349,  0.1764,\n",
      "        -0.1382], device='cuda:0')\n"
     ]
    },
    {
     "name": "stderr",
     "output_type": "stream",
     "text": [
      "\n"
     ]
    }
   ],
   "source": [
    "def predict(model, loader, device=\"cpu\", verbose=False):\n",
    "    model.eval()\n",
    "    model.to(device)\n",
    "    \n",
    "    y_pred = []\n",
    "    y_true = []\n",
    "    \n",
    "    for b, inp in tqdm.tqdm(enumerate(loader), total=len(loader), position=0, leave=True):\n",
    "        with torch.no_grad():\n",
    "            inp = {k:v.to(device) for (k,v) in inp.items()}    \n",
    "            output = model(**inp)\n",
    "            \n",
    "        y_true.append(inp[\"labels\"])\n",
    "        print(inp[\"labels\"])\n",
    "        #print(amask)\n",
    "        print(output.logits)\n",
    "        y_pred.append((output.logits > 0).float())\n",
    "    #print(len(y_pred))\n",
    "    #print(y_pred[0].shape)\n",
    "    return torch.cat(y_pred, dim=0).to(\"cpu\"), torch.cat(y_true, dim=0).to(\"cpu\") \n",
    "\n",
    "pred_train, y_train = predict(model, train_loader, device=device, verbose=False)\n",
    "pred_val, y_val = predict(model, val_loader, device=device, verbose=False)\n",
    "# pred_test, y_test = predict(model, test_loader, device=device, verbose=False)"
   ]
  },
  {
   "cell_type": "code",
   "execution_count": 13,
   "id": "b0d0f922",
   "metadata": {},
   "outputs": [
    {
     "data": {
      "text/plain": [
       "(tensor([0., 1., 0., 0., 0., 0., 0., 0., 0., 0., 0., 0., 0., 1., 0., 1., 1., 0.,\n",
       "         0., 0., 1., 0., 0., 0., 0., 0., 0., 0., 0., 0., 0., 0., 0., 0., 0., 0.,\n",
       "         0., 0., 0., 0., 0., 0., 1., 0., 0., 0., 0., 0., 0., 0., 0., 0., 1., 0.,\n",
       "         0., 1., 0., 0., 0., 0., 0., 0., 1., 0., 0., 1., 0., 0., 0., 0., 0., 0.,\n",
       "         0.]),\n",
       " Use Case ID\n",
       " 86      low-risk\n",
       " 57      low-risk\n",
       " 8       low-risk\n",
       " 30      low-risk\n",
       " 114     low-risk\n",
       " 36     high-risk\n",
       " 56     high-risk\n",
       " 87      low-risk\n",
       " 62      low-risk\n",
       " 92      low-risk\n",
       " 91      low-risk\n",
       " 80      low-risk\n",
       " 108     low-risk\n",
       " 89      low-risk\n",
       " 7       low-risk\n",
       " 5      high-risk\n",
       " 68      low-risk\n",
       " 85      low-risk\n",
       " 32      low-risk\n",
       " 42     high-risk\n",
       " 21      low-risk\n",
       " 76      low-risk\n",
       " 49      low-risk\n",
       " 34      low-risk\n",
       " 117     low-risk\n",
       " Name: risk, dtype: object)"
      ]
     },
     "execution_count": 13,
     "metadata": {},
     "output_type": "execute_result"
    }
   ],
   "source": [
    "y_train, y_test\n",
    "\n"
   ]
  },
  {
   "cell_type": "code",
   "execution_count": 14,
   "id": "581514ca",
   "metadata": {},
   "outputs": [
    {
     "data": {
      "text/plain": [
       "tensor([1., 1., 0., 1., 1., 1., 0., 1., 1., 0., 0., 0., 1., 1., 1., 1., 1., 0.,\n",
       "        0., 1., 1., 0., 0., 0., 1., 0., 0., 0., 0., 1., 0., 1., 0., 1., 1., 1.,\n",
       "        0., 0., 0., 0., 1., 1., 1., 0., 0., 1., 0., 0., 1., 1., 1., 1., 1., 1.,\n",
       "        0., 1., 0., 1., 0., 0., 0., 0., 1., 0., 0., 1., 0., 1., 0., 0., 1., 1.,\n",
       "        0.])"
      ]
     },
     "execution_count": 14,
     "metadata": {},
     "output_type": "execute_result"
    }
   ],
   "source": [
    "pred_train"
   ]
  },
  {
   "cell_type": "code",
   "execution_count": 15,
   "id": "5daaebb6",
   "metadata": {},
   "outputs": [],
   "source": [
    "from sklearn.metrics import classification_report\n",
    "from sklearn.metrics import confusion_matrix"
   ]
  },
  {
   "cell_type": "code",
   "execution_count": 17,
   "id": "8a2f16c2",
   "metadata": {},
   "outputs": [
    {
     "name": "stdout",
     "output_type": "stream",
     "text": [
      "Summary on TRAIN set:\n",
      "\n",
      "              precision    recall  f1-score   support\n",
      "\n",
      "     low-res       1.00      0.57      0.73        63\n",
      "    high-res       0.27      1.00      0.43        10\n",
      "\n",
      "    accuracy                           0.63        73\n",
      "   macro avg       0.64      0.79      0.58        73\n",
      "weighted avg       0.90      0.63      0.69        73\n",
      "\n",
      "[[36 27]\n",
      " [ 0 10]]\n",
      "*****************************************************\n",
      "\n",
      "Summary on VAL set:\n",
      "\n",
      "              precision    recall  f1-score   support\n",
      "\n",
      "     low-res       1.00      0.24      0.38        21\n",
      "    high-res       0.20      1.00      0.33         4\n",
      "\n",
      "    accuracy                           0.36        25\n",
      "   macro avg       0.60      0.62      0.36        25\n",
      "weighted avg       0.87      0.36      0.38        25\n",
      "\n",
      "[[ 5 16]\n",
      " [ 0  4]]\n",
      "*****************************************************\n",
      "\n"
     ]
    }
   ],
   "source": [
    "for name, pred, y in zip([\"TRAIN\", \"VAL\"], [pred_train, pred_val], [y_train, y_val]):\n",
    "    print(f\"Summary on {name} set:\")\n",
    "    print()\n",
    "    print(classification_report(y.ravel(), pred.ravel(), target_names=[\"low-res\", \"high-res\"]))\n",
    "    print(confusion_matrix(y.ravel(), pred.ravel()))\n",
    "    print(\"*\"*53)\n",
    "    print()"
   ]
  },
  {
   "cell_type": "code",
   "execution_count": null,
   "id": "610bedd4",
   "metadata": {},
   "outputs": [],
   "source": []
  },
  {
   "cell_type": "code",
   "execution_count": null,
   "id": "174fab7d",
   "metadata": {},
   "outputs": [],
   "source": []
  },
  {
   "cell_type": "code",
   "execution_count": null,
   "id": "fd1ff8d5",
   "metadata": {},
   "outputs": [],
   "source": []
  },
  {
   "cell_type": "code",
   "execution_count": null,
   "id": "ed8956b5",
   "metadata": {},
   "outputs": [],
   "source": []
  },
  {
   "cell_type": "code",
   "execution_count": null,
   "id": "b3d38c0b",
   "metadata": {},
   "outputs": [],
   "source": []
  },
  {
   "cell_type": "code",
   "execution_count": null,
   "id": "7e545aa5",
   "metadata": {},
   "outputs": [],
   "source": []
  },
  {
   "cell_type": "code",
   "execution_count": null,
   "id": "48f63dd0",
   "metadata": {},
   "outputs": [],
   "source": []
  },
  {
   "cell_type": "code",
   "execution_count": null,
   "id": "dc140710",
   "metadata": {},
   "outputs": [],
   "source": []
  }
 ],
 "metadata": {
  "kernelspec": {
   "display_name": "Python 3 (ipykernel)",
   "language": "python",
   "name": "python3"
  },
  "language_info": {
   "codemirror_mode": {
    "name": "ipython",
    "version": 3
   },
   "file_extension": ".py",
   "mimetype": "text/x-python",
   "name": "python",
   "nbconvert_exporter": "python",
   "pygments_lexer": "ipython3",
   "version": "3.8.12"
  }
 },
 "nbformat": 4,
 "nbformat_minor": 5
}
